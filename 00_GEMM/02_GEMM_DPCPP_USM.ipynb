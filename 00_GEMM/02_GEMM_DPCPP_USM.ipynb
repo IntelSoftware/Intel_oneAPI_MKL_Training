{
 "cells": [
  {
   "cell_type": "markdown",
   "metadata": {},
   "source": [
    "# oneMKL GEMM Exercise (Using SYCL C++ Unified Shared Memory)"
   ]
  },
  {
   "cell_type": "markdown",
   "metadata": {},
   "source": [
    "The following example shows a simple matrix multiplication program using __SYCL__ with the __unified shared memory__ style of memory management. Follow along with the instructions of the lab to build and run the program. "
   ]
  },
  {
   "cell_type": "code",
   "execution_count": 9,
   "metadata": {},
   "outputs": [
    {
     "name": "stdout",
     "output_type": "stream",
     "text": [
      "Writing lab/dpcpp_gemm_usm.cpp\n"
     ]
    }
   ],
   "source": [
    "%%writefile lab/dpcpp_gemm_usm.cpp\n",
    "//==============================================================\n",
    "// Copyright © 2023 Intel Corporation\n",
    "//\n",
    "// SPDX-License-Identifier: MIT\n",
    "// =============================================================\n",
    "#include <iostream>\n",
    "#include <vector>\n",
    "#include <sycl/sycl.hpp>          //# sycl namespace\n",
    "#include \"oneapi/mkl/blas.hpp\"  //# oneMKL DPC++ interface for BLAS functions\n",
    "\n",
    "// # The following project performs matrix multiplication using oneMKL / DPC++ with Unified Shared Memory (USM)\n",
    "// # We will execute the simple operation A * B = C\n",
    "// # The matrix B is set equal to the identity matrix such that A * B = A * I\n",
    "// # After performing the computation, we will verify A * I = C -> A = C\n",
    "\n",
    "using namespace sycl;\n",
    "namespace mkl = oneapi::mkl;  //# shorten mkl namespace\n",
    "\n",
    "int main() {\n",
    "\n",
    "    //# dimensions\n",
    "    int m = 3, n = 3, k = 3;\n",
    "    \n",
    "    //# leading dimensions\n",
    "    int ldA = 3, ldB = 3, ldC = 3;\n",
    "    \n",
    "    //# scalar multipliers\n",
    "    float alpha = 1.0, beta = 1.0;\n",
    "    \n",
    "    //# transpose status of matrices\n",
    "    mkl::transpose transA = mkl::transpose::nontrans;\n",
    "    mkl::transpose transB = mkl::transpose::nontrans;\n",
    "\n",
    "    //### Step 1 - Create a queue with default selector.\n",
    "    queue q;\n",
    "    device my_device = q.get_device();\n",
    "    std::cout << \"Device: \" << my_device.get_info<info::device::name>() << \"\\n\";\n",
    "\n",
    "    //### Step 2 - Create a sycl event and allocate USM\n",
    "    //# The later execution of the gemm operation is tied to this event\n",
    "    //# The gemm operation will also make use of a vector of sycl events we can call 'gemm_dependencies'\n",
    "    \n",
    "    sycl::event gemm_done;\n",
    "    std::vector<sycl::event> gemm_dependencies;\n",
    "    \n",
    "    //# Here, we allocate USM pointers for each matrix, using the special 'malloc_shared' function\n",
    "    //# Make sure to template the function with the correct precision, and pass in our queue to the function call\n",
    "    \n",
    "    float *A_usm = sycl::malloc_shared<float>(m * k, q);\n",
    "    float *B_usm = sycl::malloc_shared<float>(k * n, q);\n",
    "    float *C_usm = sycl::malloc_shared<float>(m * n, q);\n",
    "\n",
    "    //# define matrix A as the 3x3 matrix\n",
    "    //# {{ 1, 2, 3}, {4, 5, 6}, {7, 8, 9}}\n",
    "    \n",
    "    for (int i = 0; i < m; i++) {\n",
    "        for (int j = 0; j < k; j++) {\n",
    "            A_usm[i*m+j] = (float)(i*m+j) + 1.0;\n",
    "        }\n",
    "    }\n",
    "    \n",
    "    //# define matrix B as the identity matrix\n",
    "    for (int i = 0; i < k; i++) {\n",
    "        for (int j = 0; j < n; j++) {\n",
    "            if (i == j) B_usm[i*k+j] = 1.0;\n",
    "            else B_usm[i*k+j] = 0.0;\n",
    "        }\n",
    "    }\n",
    "    \n",
    "    //# initialize C as a 0 matrix\n",
    "    for (int i = 0; i < m; i++) {\n",
    "        for (int j = 0; j < n; j++) {\n",
    "            C_usm[i*m+j] = 0.0;\n",
    "        }\n",
    "    }\n",
    "\n",
    "    //### Step 3 - Execute gemm operation.\n",
    "    //# Here, we fill in the familiar parameters for the gemm operation.\n",
    "    //# However, we must also pass in the queue as the first parameter.\n",
    "    //# We must also pass in our list of dependencies as the final parameter.\n",
    "    //# We are also passing in our USM pointers as opposed to a buffer or raw data pointer.\n",
    "    \n",
    "    gemm_done = mkl::blas::gemm(q, transA, transB, m, n, k, alpha, A_usm, ldA, B_usm, ldB, beta, C_usm, ldC, gemm_dependencies);\n",
    "\n",
    "    //# We must now wait for the given event to finish before accessing any data involved in the operation\n",
    "    //# Otherwise, we may access data before the operation has completed, or before it has been returned to the host\n",
    "    gemm_done.wait();\n",
    "\n",
    "    int status = 0;\n",
    "\n",
    "    //# verify C matrix using USM data\n",
    "    std::cout << \"\\n\";\n",
    "    std::cout << \"C = \\n\";\n",
    "    for (int i = 0; i < m; ++i) {\n",
    "        for (int j = 0; j < n; ++j) {\n",
    "            if (A_usm[i*m+j] != C_usm[i*m+j]) status = 1;\n",
    "            std::cout << C_usm[i*m+j] << \" \";\n",
    "        }\n",
    "        std::cout << \"\\n\";\n",
    "    }\n",
    "    std::cout << \"\\n\";\n",
    "\n",
    "    //# free usm pointers\n",
    "    sycl::free(A_usm, q);\n",
    "    sycl::free(B_usm, q);\n",
    "    sycl::free(C_usm, q);\n",
    "\n",
    "    status == 0 ? std::cout << \"Verified: A = C\\n\" : std::cout << \"Failed: A != C\\n\";\n",
    "    return status;\n",
    "}"
   ]
  },
  {
   "cell_type": "markdown",
   "metadata": {},
   "source": [
    "### Build and Run\n",
    "Select the cell below and click Run ▶ to compile and execute the code above:"
   ]
  },
  {
   "cell_type": "code",
   "execution_count": null,
   "metadata": {},
   "outputs": [],
   "source": [
    "! chmod 755 q; chmod 755 run_gemm_usm.sh;if [ -x \"$(command -v qsub)\" ]; then ./q run_gemm_usm.sh; else ./run_gemm_usm.sh; fi"
   ]
  },
  {
   "cell_type": "markdown",
   "metadata": {},
   "source": [
    "The build instructions for this sample can be found in the ```run_gemm_usm.sh``` script. Consider using the [Link Line Advisor](https://software.intel.com/content/www/us/en/develop/articles/intel-mkl-link-line-advisor.html) to help you create compile and link lines for your oneMKL projects."
   ]
  },
  {
   "cell_type": "markdown",
   "metadata": {},
   "source": [
    "<html><body><span style=\"color:green\"><h1>Survey</h1></span></body></html>\n",
    "\n",
    "[We would appreciate any feedback you’d care to give, so that we can improve the overall training quality and experience. Thanks! ](https://intel.az1.qualtrics.com/jfe/form/SV_3JyBEAtwk5YIg85)"
   ]
  },
  {
   "cell_type": "markdown",
   "metadata": {},
   "source": [
    "<html><body><span style=\"color:Red\"><h1>Reset Notebook</h1></span></body></html>\n",
    "\n",
    "##### Should you be experiencing any issues with your notebook or just want to start fresh run the below cell."
   ]
  },
  {
   "cell_type": "code",
   "execution_count": null,
   "metadata": {},
   "outputs": [],
   "source": [
    "from IPython.display import display, Markdown, clear_output\n",
    "import ipywidgets as widgets\n",
    "button = widgets.Button(\n",
    "    description='Reset Notebook',\n",
    "    disabled=False,\n",
    "    button_style='', # 'success', 'info', 'warning', 'danger' or ''\n",
    "    tooltip='This will update this notebook, overwriting any changes.',\n",
    "    icon='check' # (FontAwesome names without the `fa-` prefix)\n",
    ")\n",
    "out = widgets.Output()\n",
    "def on_button_clicked(_):\n",
    "      # \"linking function with output\"\n",
    "      with out:\n",
    "          # what happens when we press the button\n",
    "          clear_output()\n",
    "          !rsync -a --size-only /data/oneapi_workshop/Intel_oneAPI_MKL_Training/00_GEMM/ ~/Intel_oneAPI_MKL_Training/00_GEMM/\n",
    "          print('Notebook reset -- now click reload on browser.')\n",
    "# linking button and function together using a button's method\n",
    "button.on_click(on_button_clicked)\n",
    "# displaying button and its output together\n",
    "widgets.VBox([button,out])"
   ]
  }
 ],
 "metadata": {
  "kernelspec": {
   "display_name": "Python 3 (Intel® oneAPI 2023.0)",
   "language": "python",
   "name": "c009-intel_distribution_of_python_3_oneapi-beta05-python"
  },
  "language_info": {
   "codemirror_mode": {
    "name": "ipython",
    "version": 3
   },
   "file_extension": ".py",
   "mimetype": "text/x-python",
   "name": "python",
   "nbconvert_exporter": "python",
   "pygments_lexer": "ipython3",
   "version": "3.9.15"
  }
 },
 "nbformat": 4,
 "nbformat_minor": 4
}
