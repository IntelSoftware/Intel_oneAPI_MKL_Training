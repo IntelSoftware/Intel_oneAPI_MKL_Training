{
 "cells": [
  {
   "cell_type": "markdown",
   "metadata": {},
   "source": [
    "# GEMM (Using SYCL C++ Buffers)"
   ]
  },
  {
   "cell_type": "markdown",
   "metadata": {},
   "source": [
    "The following example shows a simple matrix multiplication program using __SYCL C++__ with the __buffer/accessor__ style of memory management. Follow along with the instructions of the lab to build and run the program. The lab requires a mixture of observing key components, and making simple modifications."
   ]
  },
  {
   "cell_type": "code",
   "execution_count": 1,
   "metadata": {},
   "outputs": [
    {
     "name": "stdout",
     "output_type": "stream",
     "text": [
      "Writing lab/dpcpp_gemm_buffers.cpp\n"
     ]
    }
   ],
   "source": [
    "%%writefile lab/dpcpp_gemm_buffers.cpp\n",
    "//==============================================================\n",
    "// Copyright © 2023 Intel Corporation\n",
    "//\n",
    "// SPDX-License-Identifier: MIT\n",
    "// =============================================================\n",
    "#include <iostream>\n",
    "#include <vector>\n",
    "#include <sycl/sycl.hpp>          //# sycl namespace\n",
    "#include \"oneapi/mkl/blas.hpp\"  //# oneMKL DPC++ interface for BLAS functions\n",
    "\n",
    "//# The following project performs matrix multiplication using oneMKL / DPC++ with buffers.\n",
    "//# We will execute the simple operation A * B = C\n",
    "//# The matrix B is set equal to the identity matrix such that A * B = A * I\n",
    "//# After performing the computation, we will verify A * I = C -> A = C\n",
    "\n",
    "using namespace sycl;\n",
    "namespace mkl = oneapi::mkl;  //# shorten mkl namespace\n",
    "\n",
    "int main() {\n",
    "\n",
    "    //# dimensions\n",
    "    \n",
    "    int m = 3, n = 3, k = 3;\n",
    "    \n",
    "    //# leading dimensions\n",
    "    \n",
    "    int ldA = 3, ldB = 3, ldC = 3;\n",
    "    \n",
    "    //# scalar multipliers\n",
    "    \n",
    "    float alpha = 1.0, beta = 1.0;\n",
    "    \n",
    "    //# transpose status of matrices\n",
    "    \n",
    "    mkl::transpose transA = mkl::transpose::nontrans;\n",
    "    mkl::transpose transB = mkl::transpose::nontrans;\n",
    "    \n",
    "    //# matrix data\n",
    "    \n",
    "    std::vector<float> A = {1.0, 2.0, 3.0, 4.0, 5.0, 6.0, 7.0, 8.0, 9.0};\n",
    "    std::vector<float> B = {1.0, 0.0, 0.0, 0.0, 1.0, 0.0, 0.0, 0.0, 1.0};\n",
    "    std::vector<float> C = {0.0, 0.0, 0.0, 0.0, 0.0, 0.0, 0.0, 0.0, 0.0};\n",
    "\n",
    "    //### Step 1 - Create a queue with default selector.\n",
    "    \n",
    "    queue q;\n",
    "    device my_device = q.get_device();\n",
    "    std::cout << \"Device: \" << my_device.get_info<info::device::name>() << \"\\n\";\n",
    "\n",
    "    //### Step 2 - Create buffers to hold our matrix data.\n",
    "    //# Buffer objects can be constructed given a container\n",
    "    //# Observe the creation of buffers for matrices A and B.\n",
    "    //# Try and create a third buffer for matrix C called C_buffer.\n",
    "    //# The solution is shown in the hidden cell below.\n",
    "    \n",
    "    buffer A_buffer(A);\n",
    "    buffer B_buffer(B);\n",
    "    /* define C_buffer here */\n",
    "    \n",
    "    //### Step 3 - Execute gemm operation.\n",
    "    //# Here, we need only pass in our queue and other familiar matrix multiplication parameters.\n",
    "    //# This includes the dimensions and data buffers for matrices A, B, and C.\n",
    "    \n",
    "    mkl::blas::gemm(q, transA, transB, m, n, k, alpha, A_buffer, ldA, B_buffer, ldB, beta, C_buffer, ldC);\n",
    "\n",
    "\n",
    "    //### Step 6 - Observe creation of accessors to retrieve data from A_buffer and C_buffer.\n",
    "    \n",
    "    host_accessor A_acc(A_buffer, read_only);\n",
    "    host_accessor C_acc(C_buffer, read_only);\n",
    "\n",
    "    int status = 0;\n",
    "\n",
    "    // verify C matrix using accessor to observe values held in C_buffer\n",
    "    \n",
    "    std::cout << std::endl;\n",
    "    std::cout << \"C = \" << std::endl;\n",
    "    for (int i = 0; i < m; ++i) {\n",
    "        for (int j = 0; j < n; ++j) {\n",
    "            if (A_acc[i*m+j] != C_acc[i*m+j]) status = 1;\n",
    "            std::cout << C_acc[i*m+j] << \" \";\n",
    "        }\n",
    "        std::cout << std::endl;\n",
    "    }\n",
    "    std::cout << std::endl;\n",
    "\n",
    "    status == 0 ? std::cout << \"Verified: A = C\" << std::endl : std::cout << \"Failed: A != C\" << std::endl;\n",
    "    return status;\n",
    "}"
   ]
  },
  {
   "cell_type": "markdown",
   "metadata": {},
   "source": [
    "### Solutions - click the three dots below to reveal"
   ]
  },
  {
   "cell_type": "markdown",
   "metadata": {
    "jupyter": {
     "source_hidden": true
    }
   },
   "source": [
    "Step 4 - The correct line is\n",
    "```sycl::buffer C_buffer(C);```"
   ]
  },
  {
   "cell_type": "markdown",
   "metadata": {},
   "source": [
    "### Build and Run\n",
    "Select the cell below and click Run ▶ to compile and execute the code above:"
   ]
  },
  {
   "cell_type": "code",
   "execution_count": null,
   "metadata": {},
   "outputs": [],
   "source": [
    "! chmod 755 q; chmod 755 run_gemm_buffers.sh;if [ -x \"$(command -v qsub)\" ]; then ./q run_gemm_buffers.sh; else ./run_gemm_buffers.sh; fi"
   ]
  },
  {
   "cell_type": "markdown",
   "metadata": {},
   "source": [
    "The build instructions for this sample can be found in the ```run_gemm_buffers.sh``` script. Consider using the [Link Line Advisor](https://software.intel.com/content/www/us/en/develop/articles/intel-mkl-link-line-advisor.html) to help you create compile and link lines for your oneMKL projects."
   ]
  },
  {
   "cell_type": "markdown",
   "metadata": {},
   "source": [
    "<html><body><span style=\"color:green\"><h1>Survey</h1></span></body></html>\n",
    "\n",
    "[We would appreciate any feedback you’d care to give, so that we can improve the overall training quality and experience. Thanks! ](https://intel.az1.qualtrics.com/jfe/form/SV_cCpY08ARDi6NhfT)"
   ]
  },
  {
   "cell_type": "markdown",
   "metadata": {},
   "source": [
    "<html><body><span style=\"color:Red\"><h1>Reset Notebook</h1></span></body></html>\n",
    "\n",
    "##### Should you be experiencing any issues with your notebook or just want to start fresh run the below cell."
   ]
  },
  {
   "cell_type": "code",
   "execution_count": null,
   "metadata": {
    "jupyter": {
     "source_hidden": true
    }
   },
   "outputs": [],
   "source": [
    "from IPython.display import display, Markdown, clear_output\n",
    "import ipywidgets as widgets\n",
    "button = widgets.Button(\n",
    "    description='Reset Notebook',\n",
    "    disabled=False,\n",
    "    button_style='', # 'success', 'info', 'warning', 'danger' or ''\n",
    "    tooltip='This will update this notebook, overwriting any changes.',\n",
    "    icon='check' # (FontAwesome names without the `fa-` prefix)\n",
    ")\n",
    "out = widgets.Output()\n",
    "def on_button_clicked(_):\n",
    "      # \"linking function with output\"\n",
    "      with out:\n",
    "          # what happens when we press the button\n",
    "          clear_output()\n",
    "          !rsync -a --size-only /data/oneapi_workshop/Intel_oneAPI_MKL_Training/00_GEMM/ ~/Intel_oneAPI_MKL_Training/00_GEMM/\n",
    "          print('Notebook reset -- now click reload on browser.')\n",
    "# linking button and function together using a button's method\n",
    "button.on_click(on_button_clicked)\n",
    "# displaying button and its output together\n",
    "widgets.VBox([button,out])"
   ]
  }
 ],
 "metadata": {
  "kernelspec": {
   "display_name": "Python 3 (Intel® oneAPI 2023.0)",
   "language": "python",
   "name": "c009-intel_distribution_of_python_3_oneapi-beta05-python"
  },
  "language_info": {
   "codemirror_mode": {
    "name": "ipython",
    "version": 3
   },
   "file_extension": ".py",
   "mimetype": "text/x-python",
   "name": "python",
   "nbconvert_exporter": "python",
   "pygments_lexer": "ipython3",
   "version": "3.9.15"
  }
 },
 "nbformat": 4,
 "nbformat_minor": 4
}
